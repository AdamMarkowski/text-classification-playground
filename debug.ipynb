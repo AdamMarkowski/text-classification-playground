{
 "cells": [
  {
   "cell_type": "code",
   "execution_count": 1,
   "id": "8f3f23b4-0f1a-45a9-9cec-98e079b90337",
   "metadata": {},
   "outputs": [
    {
     "name": "stdout",
     "output_type": "stream",
     "text": [
      "Selected Jupyter core packages...\n",
      "IPython          : 8.20.0\n",
      "ipykernel        : 6.29.0\n",
      "ipywidgets       : 8.1.1\n",
      "jupyter_client   : 8.6.0\n",
      "jupyter_core     : 5.7.1\n",
      "jupyter_server   : 2.10.0\n",
      "jupyterlab       : 4.0.12\n",
      "nbclient         : 0.8.0\n",
      "nbconvert        : 7.14.2\n",
      "nbformat         : 5.9.2\n",
      "notebook         : 7.0.7\n",
      "qtconsole        : 5.5.1\n",
      "traitlets        : 5.14.1\n"
     ]
    }
   ],
   "source": [
    "!jupyter --version"
   ]
  },
  {
   "cell_type": "code",
   "execution_count": 2,
   "id": "85cf7506-eb32-4114-95ab-b8bdf6b0727f",
   "metadata": {},
   "outputs": [
    {
     "name": "stdout",
     "output_type": "stream",
     "text": [
      "Available kernels:\n",
      "  glue_pyspark     /opt/conda/share/jupyter/kernels/glue_pyspark\n",
      "  glue_spark       /opt/conda/share/jupyter/kernels/glue_spark\n",
      "  pysparkkernel    /opt/conda/share/jupyter/kernels/pysparkkernel\n",
      "  python3          /opt/conda/share/jupyter/kernels/python3\n",
      "  sparkkernel      /opt/conda/share/jupyter/kernels/sparkkernel\n"
     ]
    }
   ],
   "source": [
    "!jupyter kernelspec list"
   ]
  },
  {
   "cell_type": "code",
   "execution_count": null,
   "id": "204b9906-ed62-4c9f-9b0e-d244653d78d8",
   "metadata": {},
   "outputs": [],
   "source": []
  }
 ],
 "metadata": {
  "kernelspec": {
   "display_name": "Python 3 (ipykernel)",
   "language": "python",
   "name": "python3"
  },
  "language_info": {
   "codemirror_mode": {
    "name": "ipython",
    "version": 3
   },
   "file_extension": ".py",
   "mimetype": "text/x-python",
   "name": "python",
   "nbconvert_exporter": "python",
   "pygments_lexer": "ipython3",
   "version": "3.10.13"
  }
 },
 "nbformat": 4,
 "nbformat_minor": 5
}
